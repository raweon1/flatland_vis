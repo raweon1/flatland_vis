{
 "cells": [
  {
   "cell_type": "code",
   "execution_count": 1,
   "metadata": {
    "collapsed": true
   },
   "outputs": [],
   "source": [
    "import numpy as np\n",
    "import json\n",
    "from PIL import Image\n",
    "from transition_image import load_png, load_pil_png, target_files\n",
    "from itertools import groupby\n",
    "from operator import itemgetter, attrgetter\n",
    "from collections import defaultdict\n",
    "import flatland_data_processing as fdp\n",
    "import pandas as pd"
   ]
  },
  {
   "cell_type": "code",
   "execution_count": 2,
   "outputs": [
    {
     "name": "stdout",
     "output_type": "stream",
     "text": [
      "{'src': [(14, 5), (15, 16), (16, 5)], 'dest': [(15, 5), (16, 16)], 'src-dest': [(14, 5, 16, 16), (15, 16, 15, 5), (16, 5, 16, 16)]}\n",
      "{'src': [(14, 5), (15, 16), (16, 5)], 'dest': [(15, 5), (16, 16)], 'src-dest': [(14, 5, 16, 16), (15, 16, 15, 5), (16, 5, 16, 16)]}\n"
     ]
    }
   ],
   "source": [
    "def load(filename):\n",
    "    with open(filename) as json_file_:\n",
    "        data = json.load(json_file_)\n",
    "    return data\n",
    "\n",
    "def load_level_data(test, level):\n",
    "    level_path = \"static/levelData/\"\n",
    "    level_name = \"-Test_%d_Level_%d.json\" % (test, level)\n",
    "    return load(\"%sOR%s\" % (level_path, level_name)), load(\"%sRL%s\" % (level_path, level_name))\n",
    "\n",
    "data1, data2 = load_level_data(4, 0)\n",
    "\n",
    "#&&\n",
    "\n",
    "print(fdp.get_groups(fdp.agents(data1)))\n",
    "print(fdp.get_groups(fdp.agents(data2)))\n",
    "grid = np.vstack(data1[\"environmentData\"][\"grid\"])\n",
    "grid2 = np.vstack(data2[\"environmentData\"][\"grid\"])"
   ],
   "metadata": {
    "collapsed": false,
    "pycharm": {
     "name": "#%%\n"
    }
   }
  },
  {
   "cell_type": "code",
   "execution_count": 21,
   "outputs": [],
   "source": [
    "episode = np.array(data1[\"environmentData\"][\"episode\"])[:, :, :2]\n",
    "episode_per_timestep = {}\n",
    "for timestep in range(episode.shape[0]):\n",
    "    episode_per_timestep[timestep] = [{\"x\": int(agent[1]), \"y\": int(agent[0]), \"id\": index} for index, agent in\n",
    "                                   enumerate(episode[timestep])]"
   ],
   "metadata": {
    "collapsed": false,
    "pycharm": {
     "name": "#%%\n"
    }
   }
  },
  {
   "cell_type": "code",
   "execution_count": 22,
   "outputs": [
    {
     "data": {
      "text/plain": "{0: [{'x': 5, 'y': 16, 'id': 0},\n  {'x': 0, 'y': 0, 'id': 1},\n  {'x': 0, 'y': 0, 'id': 2},\n  {'x': 16, 'y': 15, 'id': 3},\n  {'x': 5, 'y': 14, 'id': 4}],\n 1: [{'x': 6, 'y': 16, 'id': 0},\n  {'x': 0, 'y': 0, 'id': 1},\n  {'x': 5, 'y': 16, 'id': 2},\n  {'x': 17, 'y': 15, 'id': 3},\n  {'x': 6, 'y': 14, 'id': 4}],\n 2: [{'x': 6, 'y': 15, 'id': 0},\n  {'x': 5, 'y': 14, 'id': 1},\n  {'x': 4, 'y': 16, 'id': 2},\n  {'x': 18, 'y': 15, 'id': 3},\n  {'x': 7, 'y': 14, 'id': 4}],\n 3: [{'x': 7, 'y': 15, 'id': 0},\n  {'x': 4, 'y': 14, 'id': 1},\n  {'x': 4, 'y': 15, 'id': 2},\n  {'x': 18, 'y': 16, 'id': 3},\n  {'x': 7, 'y': 14, 'id': 4}],\n 4: [{'x': 8, 'y': 15, 'id': 0},\n  {'x': 3, 'y': 14, 'id': 1},\n  {'x': 3, 'y': 15, 'id': 2},\n  {'x': 19, 'y': 16, 'id': 3},\n  {'x': 7, 'y': 15, 'id': 4}],\n 5: [{'x': 9, 'y': 15, 'id': 0},\n  {'x': 3, 'y': 14, 'id': 1},\n  {'x': 2, 'y': 15, 'id': 2},\n  {'x': 20, 'y': 16, 'id': 3},\n  {'x': 8, 'y': 15, 'id': 4}],\n 6: [{'x': 10, 'y': 15, 'id': 0},\n  {'x': 3, 'y': 15, 'id': 1},\n  {'x': 1, 'y': 15, 'id': 2},\n  {'x': 21, 'y': 16, 'id': 3},\n  {'x': 9, 'y': 15, 'id': 4}],\n 7: [{'x': 11, 'y': 15, 'id': 0},\n  {'x': 2, 'y': 15, 'id': 1},\n  {'x': 0, 'y': 15, 'id': 2},\n  {'x': 21, 'y': 17, 'id': 3},\n  {'x': 10, 'y': 15, 'id': 4}],\n 8: [{'x': 12, 'y': 15, 'id': 0},\n  {'x': 1, 'y': 15, 'id': 1},\n  {'x': 0, 'y': 16, 'id': 2},\n  {'x': 21, 'y': 18, 'id': 3},\n  {'x': 11, 'y': 15, 'id': 4}],\n 9: [{'x': 13, 'y': 15, 'id': 0},\n  {'x': 0, 'y': 15, 'id': 1},\n  {'x': 0, 'y': 17, 'id': 2},\n  {'x': 21, 'y': 19, 'id': 3},\n  {'x': 12, 'y': 15, 'id': 4}],\n 10: [{'x': 13, 'y': 16, 'id': 0},\n  {'x': 0, 'y': 16, 'id': 1},\n  {'x': 0, 'y': 18, 'id': 2},\n  {'x': 21, 'y': 20, 'id': 3},\n  {'x': 13, 'y': 15, 'id': 4}],\n 11: [{'x': 14, 'y': 16, 'id': 0},\n  {'x': 0, 'y': 17, 'id': 1},\n  {'x': 0, 'y': 19, 'id': 2},\n  {'x': 20, 'y': 20, 'id': 3},\n  {'x': 13, 'y': 16, 'id': 4}],\n 12: [{'x': 15, 'y': 16, 'id': 0},\n  {'x': 0, 'y': 18, 'id': 1},\n  {'x': 1, 'y': 19, 'id': 2},\n  {'x': 19, 'y': 20, 'id': 3},\n  {'x': 14, 'y': 16, 'id': 4}],\n 13: [{'x': 0, 'y': 0, 'id': 0},\n  {'x': 0, 'y': 19, 'id': 1},\n  {'x': 2, 'y': 19, 'id': 2},\n  {'x': 18, 'y': 20, 'id': 3},\n  {'x': 15, 'y': 16, 'id': 4}],\n 14: [{'x': 0, 'y': 0, 'id': 0},\n  {'x': 1, 'y': 19, 'id': 1},\n  {'x': 3, 'y': 19, 'id': 2},\n  {'x': 17, 'y': 20, 'id': 3},\n  {'x': 0, 'y': 0, 'id': 4}],\n 15: [{'x': 0, 'y': 0, 'id': 0},\n  {'x': 2, 'y': 19, 'id': 1},\n  {'x': 4, 'y': 19, 'id': 2},\n  {'x': 16, 'y': 20, 'id': 3},\n  {'x': 0, 'y': 0, 'id': 4}],\n 16: [{'x': 0, 'y': 0, 'id': 0},\n  {'x': 3, 'y': 19, 'id': 1},\n  {'x': 5, 'y': 19, 'id': 2},\n  {'x': 15, 'y': 20, 'id': 3},\n  {'x': 0, 'y': 0, 'id': 4}],\n 17: [{'x': 0, 'y': 0, 'id': 0},\n  {'x': 4, 'y': 19, 'id': 1},\n  {'x': 6, 'y': 19, 'id': 2},\n  {'x': 14, 'y': 20, 'id': 3},\n  {'x': 0, 'y': 0, 'id': 4}],\n 18: [{'x': 0, 'y': 0, 'id': 0},\n  {'x': 5, 'y': 19, 'id': 1},\n  {'x': 7, 'y': 19, 'id': 2},\n  {'x': 13, 'y': 20, 'id': 3},\n  {'x': 0, 'y': 0, 'id': 4}],\n 19: [{'x': 0, 'y': 0, 'id': 0},\n  {'x': 6, 'y': 19, 'id': 1},\n  {'x': 8, 'y': 19, 'id': 2},\n  {'x': 12, 'y': 20, 'id': 3},\n  {'x': 0, 'y': 0, 'id': 4}],\n 20: [{'x': 0, 'y': 0, 'id': 0},\n  {'x': 7, 'y': 19, 'id': 1},\n  {'x': 9, 'y': 19, 'id': 2},\n  {'x': 11, 'y': 20, 'id': 3},\n  {'x': 0, 'y': 0, 'id': 4}],\n 21: [{'x': 0, 'y': 0, 'id': 0},\n  {'x': 8, 'y': 19, 'id': 1},\n  {'x': 10, 'y': 19, 'id': 2},\n  {'x': 10, 'y': 20, 'id': 3},\n  {'x': 0, 'y': 0, 'id': 4}],\n 22: [{'x': 0, 'y': 0, 'id': 0},\n  {'x': 9, 'y': 19, 'id': 1},\n  {'x': 11, 'y': 19, 'id': 2},\n  {'x': 10, 'y': 19, 'id': 3},\n  {'x': 0, 'y': 0, 'id': 4}],\n 23: [{'x': 0, 'y': 0, 'id': 0},\n  {'x': 9, 'y': 19, 'id': 1},\n  {'x': 11, 'y': 18, 'id': 2},\n  {'x': 10, 'y': 18, 'id': 3},\n  {'x': 0, 'y': 0, 'id': 4}],\n 24: [{'x': 0, 'y': 0, 'id': 0},\n  {'x': 10, 'y': 19, 'id': 1},\n  {'x': 11, 'y': 17, 'id': 2},\n  {'x': 10, 'y': 17, 'id': 3},\n  {'x': 0, 'y': 0, 'id': 4}],\n 25: [{'x': 0, 'y': 0, 'id': 0},\n  {'x': 11, 'y': 19, 'id': 1},\n  {'x': 11, 'y': 16, 'id': 2},\n  {'x': 10, 'y': 16, 'id': 3},\n  {'x': 0, 'y': 0, 'id': 4}],\n 26: [{'x': 0, 'y': 0, 'id': 0},\n  {'x': 11, 'y': 18, 'id': 1},\n  {'x': 11, 'y': 15, 'id': 2},\n  {'x': 10, 'y': 15, 'id': 3},\n  {'x': 0, 'y': 0, 'id': 4}],\n 27: [{'x': 0, 'y': 0, 'id': 0},\n  {'x': 11, 'y': 17, 'id': 1},\n  {'x': 12, 'y': 15, 'id': 2},\n  {'x': 9, 'y': 15, 'id': 3},\n  {'x': 0, 'y': 0, 'id': 4}],\n 28: [{'x': 0, 'y': 0, 'id': 0},\n  {'x': 11, 'y': 16, 'id': 1},\n  {'x': 13, 'y': 15, 'id': 2},\n  {'x': 8, 'y': 15, 'id': 3},\n  {'x': 0, 'y': 0, 'id': 4}],\n 29: [{'x': 0, 'y': 0, 'id': 0},\n  {'x': 11, 'y': 15, 'id': 1},\n  {'x': 13, 'y': 16, 'id': 2},\n  {'x': 7, 'y': 15, 'id': 3},\n  {'x': 0, 'y': 0, 'id': 4}],\n 30: [{'x': 0, 'y': 0, 'id': 0},\n  {'x': 12, 'y': 15, 'id': 1},\n  {'x': 14, 'y': 16, 'id': 2},\n  {'x': 6, 'y': 15, 'id': 3},\n  {'x': 0, 'y': 0, 'id': 4}],\n 31: [{'x': 0, 'y': 0, 'id': 0},\n  {'x': 13, 'y': 15, 'id': 1},\n  {'x': 15, 'y': 16, 'id': 2},\n  {'x': 0, 'y': 0, 'id': 3},\n  {'x': 0, 'y': 0, 'id': 4}],\n 32: [{'x': 0, 'y': 0, 'id': 0},\n  {'x': 13, 'y': 16, 'id': 1},\n  {'x': 0, 'y': 0, 'id': 2},\n  {'x': 0, 'y': 0, 'id': 3},\n  {'x': 0, 'y': 0, 'id': 4}],\n 33: [{'x': 0, 'y': 0, 'id': 0},\n  {'x': 14, 'y': 16, 'id': 1},\n  {'x': 0, 'y': 0, 'id': 2},\n  {'x': 0, 'y': 0, 'id': 3},\n  {'x': 0, 'y': 0, 'id': 4}],\n 34: [{'x': 0, 'y': 0, 'id': 0},\n  {'x': 15, 'y': 16, 'id': 1},\n  {'x': 0, 'y': 0, 'id': 2},\n  {'x': 0, 'y': 0, 'id': 3},\n  {'x': 0, 'y': 0, 'id': 4}],\n 35: [{'x': 0, 'y': 0, 'id': 0},\n  {'x': 0, 'y': 0, 'id': 1},\n  {'x': 0, 'y': 0, 'id': 2},\n  {'x': 0, 'y': 0, 'id': 3},\n  {'x': 0, 'y': 0, 'id': 4}]}"
     },
     "execution_count": 22,
     "metadata": {},
     "output_type": "execute_result"
    }
   ],
   "source": [
    "episode_per_timestep"
   ],
   "metadata": {
    "collapsed": false,
    "pycharm": {
     "name": "#%%\n"
    }
   }
  },
  {
   "cell_type": "code",
   "execution_count": 3,
   "outputs": [],
   "source": [
    "data = load(\"static/levelData/OR-Test_7_Level_0.json\")"
   ],
   "metadata": {
    "collapsed": false,
    "pycharm": {
     "name": "#%%\n"
    }
   }
  },
  {
   "cell_type": "code",
   "execution_count": 124,
   "outputs": [
    {
     "data": {
      "text/plain": "[[0, 0],\n [0, 0],\n [0, 0],\n [0, 0],\n [0, 0],\n [0, 0],\n [0, 0],\n [0, 0],\n [0, 0],\n [0, 0],\n [0, 0],\n [0, 0],\n [0, 0],\n [0, 0],\n [16, 5],\n [16, 4],\n [15, 4],\n [15, 4],\n [15, 4],\n [15, 3],\n [15, 2],\n [15, 1],\n [15, 1],\n [15, 0],\n [16, 0],\n [17, 0],\n [18, 0],\n [19, 0],\n [19, 1],\n [19, 2],\n [19, 3],\n [19, 4],\n [19, 5],\n [19, 6],\n [19, 7],\n [19, 8],\n [19, 9],\n [19, 9],\n [19, 10],\n [19, 11],\n [19, 11],\n [18, 11],\n [17, 11],\n [16, 11],\n [15, 11],\n [15, 12],\n [15, 13],\n [16, 13],\n [16, 14],\n [16, 15],\n [0, 0],\n [0, 0],\n [0, 0],\n [0, 0],\n [0, 0],\n [0, 0],\n [0, 0],\n [0, 0],\n [0, 0],\n [0, 0],\n [0, 0],\n [0, 0],\n [0, 0],\n [0, 0],\n [0, 0],\n [0, 0],\n [0, 0],\n [0, 0],\n [0, 0],\n [0, 0],\n [0, 0],\n [0, 0],\n [0, 0],\n [0, 0],\n [0, 0],\n [0, 0],\n [0, 0],\n [0, 0],\n [0, 0],\n [0, 0]]"
     },
     "execution_count": 124,
     "metadata": {},
     "output_type": "execute_result"
    }
   ],
   "source": [
    "fdp.episode_per_agent(data2)[2]"
   ],
   "metadata": {
    "collapsed": false,
    "pycharm": {
     "name": "#%%\n"
    }
   }
  },
  {
   "cell_type": "code",
   "execution_count": null,
   "outputs": [],
   "source": [
    "def episode_per_agent(level_data):\n",
    "    episode_ = np.array(level_data[\"environmentData\"][\"episode\"])\n",
    "    hist_per_agent = {}\n",
    "    for agent in range(episode_.shape[1]):\n",
    "        hist_per_agent[agent] = np.flip(episode_[:, agent, :2], -1).tolist()\n",
    "    return hist_per_agent"
   ],
   "metadata": {
    "collapsed": false,
    "pycharm": {
     "name": "#%%\n"
    }
   }
  },
  {
   "cell_type": "code",
   "execution_count": 95,
   "outputs": [],
   "source": [
    "from collections import Counter\n",
    "def heatmap_dif(heatmap1, heatmap2):\n",
    "    heatmap1 = heatmap1.flatten()\n",
    "    heatmap2 = heatmap2.flatten()\n",
    "    result = []\n",
    "    for index, (val1, val2) in enumerate(zip(heatmap1, heatmap2)):\n",
    "        c = Counter(val1)\n",
    "        c.subtract(val2)\n",
    "        result.append({k: v for k, v in dict(c).items() if v != 0})\n",
    "    return np.array(result)"
   ],
   "metadata": {
    "collapsed": false,
    "pycharm": {
     "name": "#%%\n"
    }
   }
  },
  {
   "cell_type": "code",
   "execution_count": 96,
   "outputs": [],
   "source": [
    "heatmap_or = np.array(fdp.heatmap_data(data1))\n",
    "heatmap_rl = np.array(fdp.heatmap_data(data2))\n",
    "heatmap_ = heatmap_dif(heatmap_or, heatmap_rl)\n",
    "heatmap_or = heatmap_or.flatten()\n",
    "heatmap_rl = heatmap_rl.flatten()"
   ],
   "metadata": {
    "collapsed": false,
    "pycharm": {
     "name": "#%%\n"
    }
   }
  },
  {
   "cell_type": "code",
   "execution_count": 118,
   "outputs": [],
   "source": [
    "foo = np.vstack([heatmap_or, heatmap_rl, heatmap_]).swapaxes(0, 1)"
   ],
   "metadata": {
    "collapsed": false,
    "pycharm": {
     "name": "#%%\n"
    }
   }
  },
  {
   "cell_type": "code",
   "execution_count": 119,
   "outputs": [
    {
     "name": "stdout",
     "output_type": "stream",
     "text": [
      "True\n",
      "True\n",
      "True\n",
      "{'src-16-5': 111, 'dest-16-16': 163, 'src-dest-16-5-16-16': 111, 'src-14-5': 52, 'src-dest-14-5-16-16': 52, 'src-15-16': 44, 'dest-15-5': 44, 'src-dest-15-16-15-5': 44} {'src-16-5': 111, 'dest-16-16': 163, 'src-dest-16-5-16-16': 111, 'src-14-5': 52, 'src-dest-14-5-16-16': 52, 'src-15-16': 44, 'dest-15-5': 44, 'src-dest-15-16-15-5': 44}\n"
     ]
    }
   ],
   "source": [
    "index = 0\n",
    "print(foo[index][0] == heatmap_or[index])\n",
    "print(foo[index][1] == heatmap_rl[index])\n",
    "print(foo[index][2] == heatmap_[index])\n",
    "print(foo[index][1], heatmap_rl[index])"
   ],
   "metadata": {
    "collapsed": false,
    "pycharm": {
     "name": "#%%\n"
    }
   }
  },
  {
   "cell_type": "code",
   "execution_count": 117,
   "outputs": [
    {
     "data": {
      "text/plain": "(625, 3)"
     },
     "execution_count": 117,
     "metadata": {},
     "output_type": "execute_result"
    }
   ],
   "source": [
    "foo.swapaxes(0, 1).shape"
   ],
   "metadata": {
    "collapsed": false,
    "pycharm": {
     "name": "#%%\n"
    }
   }
  },
  {
   "cell_type": "code",
   "execution_count": null,
   "outputs": [],
   "source": [
    "foo = episode_per_agent(data)\n",
    "bar = {}\n",
    "for agent, hist in foo.items():\n",
    "    coord = []\n",
    "    distance = -1\n",
    "    last_pos = [0, 0]\n",
    "    for i, pos in enumerate(hist):\n",
    "        if pos != last_pos:\n",
    "            distance = distance + 1\n",
    "        if pos != [0, 0]:\n",
    "            coord.append([i, distance])\n",
    "        last_pos = pos\n",
    "    bar[agent] = coord"
   ],
   "metadata": {
    "collapsed": false,
    "pycharm": {
     "name": "#%%\n"
    }
   }
  },
  {
   "cell_type": "code",
   "execution_count": 25,
   "outputs": [
    {
     "data": {
      "text/plain": "[[0, 0],\n [1, 1],\n [2, 2],\n [3, 3],\n [4, 3],\n [5, 3],\n [6, 4],\n [7, 5],\n [8, 6],\n [9, 7],\n [10, 8],\n [11, 9],\n [12, 10],\n [13, 11],\n [14, 12],\n [15, 13]]"
     },
     "execution_count": 25,
     "metadata": {},
     "output_type": "execute_result"
    }
   ],
   "source": [
    "bar[7]"
   ],
   "metadata": {
    "collapsed": false,
    "pycharm": {
     "name": "#%%\n"
    }
   }
  },
  {
   "cell_type": "code",
   "execution_count": 5,
   "outputs": [
    {
     "data": {
      "text/plain": "{0: [[0, 0],\n  [0, 0],\n  [12, 17],\n  [12, 16],\n  [13, 16],\n  [13, 15],\n  [13, 14],\n  [13, 13],\n  [13, 12],\n  [13, 11],\n  [13, 10],\n  [13, 9],\n  [14, 9],\n  [14, 8],\n  [14, 7],\n  [15, 7],\n  [0, 0],\n  [0, 0],\n  [0, 0],\n  [0, 0],\n  [0, 0],\n  [0, 0],\n  [0, 0],\n  [0, 0],\n  [0, 0],\n  [0, 0],\n  [0, 0],\n  [0, 0],\n  [0, 0],\n  [0, 0],\n  [0, 0]],\n 1: [[14, 6],\n  [14, 7],\n  [14, 8],\n  [14, 9],\n  [14, 10],\n  [14, 11],\n  [14, 12],\n  [14, 13],\n  [14, 14],\n  [14, 15],\n  [13, 15],\n  [13, 16],\n  [0, 0],\n  [0, 0],\n  [0, 0],\n  [0, 0],\n  [0, 0],\n  [0, 0],\n  [0, 0],\n  [0, 0],\n  [0, 0],\n  [0, 0],\n  [0, 0],\n  [0, 0],\n  [0, 0],\n  [0, 0],\n  [0, 0],\n  [0, 0],\n  [0, 0],\n  [0, 0],\n  [0, 0]],\n 2: [[12, 17],\n  [12, 16],\n  [13, 16],\n  [13, 15],\n  [13, 14],\n  [13, 13],\n  [13, 12],\n  [13, 11],\n  [13, 10],\n  [13, 9],\n  [13, 8],\n  [13, 7],\n  [0, 0],\n  [0, 0],\n  [0, 0],\n  [0, 0],\n  [0, 0],\n  [0, 0],\n  [0, 0],\n  [0, 0],\n  [0, 0],\n  [0, 0],\n  [0, 0],\n  [0, 0],\n  [0, 0],\n  [0, 0],\n  [0, 0],\n  [0, 0],\n  [0, 0],\n  [0, 0],\n  [0, 0]],\n 3: [[0, 0],\n  [14, 6],\n  [14, 7],\n  [14, 8],\n  [14, 9],\n  [14, 10],\n  [14, 11],\n  [14, 12],\n  [14, 13],\n  [14, 14],\n  [14, 15],\n  [13, 15],\n  [13, 16],\n  [0, 0],\n  [0, 0],\n  [0, 0],\n  [0, 0],\n  [0, 0],\n  [0, 0],\n  [0, 0],\n  [0, 0],\n  [0, 0],\n  [0, 0],\n  [0, 0],\n  [0, 0],\n  [0, 0],\n  [0, 0],\n  [0, 0],\n  [0, 0],\n  [0, 0],\n  [0, 0]],\n 4: [[0, 0],\n  [0, 0],\n  [14, 6],\n  [14, 7],\n  [14, 8],\n  [14, 9],\n  [14, 10],\n  [14, 11],\n  [14, 12],\n  [14, 13],\n  [14, 14],\n  [14, 15],\n  [14, 16],\n  [15, 16],\n  [0, 0],\n  [0, 0],\n  [0, 0],\n  [0, 0],\n  [0, 0],\n  [0, 0],\n  [0, 0],\n  [0, 0],\n  [0, 0],\n  [0, 0],\n  [0, 0],\n  [0, 0],\n  [0, 0],\n  [0, 0],\n  [0, 0],\n  [0, 0],\n  [0, 0]],\n 5: [[14, 17],\n  [14, 18],\n  [14, 19],\n  [14, 20],\n  [14, 21],\n  [14, 22],\n  [15, 22],\n  [16, 22],\n  [17, 22],\n  [18, 22],\n  [18, 21],\n  [18, 20],\n  [18, 19],\n  [18, 18],\n  [18, 17],\n  [18, 16],\n  [18, 15],\n  [18, 14],\n  [18, 13],\n  [18, 12],\n  [18, 11],\n  [17, 11],\n  [16, 11],\n  [15, 11],\n  [14, 11],\n  [14, 10],\n  [14, 9],\n  [14, 8],\n  [13, 8],\n  [13, 7],\n  [0, 0]],\n 6: [[0, 0],\n  [0, 0],\n  [0, 0],\n  [14, 6],\n  [14, 7],\n  [14, 8],\n  [14, 9],\n  [14, 10],\n  [14, 11],\n  [14, 12],\n  [14, 13],\n  [14, 14],\n  [14, 15],\n  [13, 15],\n  [13, 16],\n  [0, 0],\n  [0, 0],\n  [0, 0],\n  [0, 0],\n  [0, 0],\n  [0, 0],\n  [0, 0],\n  [0, 0],\n  [0, 0],\n  [0, 0],\n  [0, 0],\n  [0, 0],\n  [0, 0],\n  [0, 0],\n  [0, 0],\n  [0, 0]],\n 7: [[12, 6],\n  [12, 7],\n  [13, 7],\n  [13, 8],\n  [13, 8],\n  [13, 8],\n  [14, 8],\n  [14, 9],\n  [14, 10],\n  [14, 11],\n  [14, 12],\n  [14, 13],\n  [14, 14],\n  [14, 15],\n  [13, 15],\n  [13, 16],\n  [0, 0],\n  [0, 0],\n  [0, 0],\n  [0, 0],\n  [0, 0],\n  [0, 0],\n  [0, 0],\n  [0, 0],\n  [0, 0],\n  [0, 0],\n  [0, 0],\n  [0, 0],\n  [0, 0],\n  [0, 0],\n  [0, 0]]}"
     },
     "execution_count": 5,
     "metadata": {},
     "output_type": "execute_result"
    }
   ],
   "source": [
    "foo"
   ],
   "metadata": {
    "collapsed": false,
    "pycharm": {
     "name": "#%%\n"
    }
   }
  },
  {
   "cell_type": "code",
   "execution_count": 5,
   "outputs": [
    {
     "data": {
      "text/plain": "[[{'lhs': {'src-16-5': 28,\n    'dest-16-16': 53,\n    'src-dest-16-5-16-16': 28,\n    'src-14-5': 25,\n    'src-dest-14-5-16-16': 25,\n    'src-15-16': 5,\n    'dest-15-5': 5,\n    'src-dest-15-16-15-5': 5},\n   'rhs': {'src-16-5': 111,\n    'dest-16-16': 163,\n    'src-dest-16-5-16-16': 111,\n    'src-14-5': 52,\n    'src-dest-14-5-16-16': 52,\n    'src-15-16': 44,\n    'dest-15-5': 44,\n    'src-dest-15-16-15-5': 44}},\n  {'lhs': {}, 'rhs': {}},\n  {'lhs': {}, 'rhs': {}},\n  {'lhs': {}, 'rhs': {}},\n  {'lhs': {}, 'rhs': {}},\n  {'lhs': {}, 'rhs': {}},\n  {'lhs': {}, 'rhs': {}},\n  {'lhs': {}, 'rhs': {}},\n  {'lhs': {}, 'rhs': {}},\n  {'lhs': {}, 'rhs': {}},\n  {'lhs': {}, 'rhs': {}},\n  {'lhs': {}, 'rhs': {}},\n  {'lhs': {}, 'rhs': {}},\n  {'lhs': {}, 'rhs': {}},\n  {'lhs': {}, 'rhs': {}},\n  {'lhs': {}, 'rhs': {}},\n  {'lhs': {}, 'rhs': {}},\n  {'lhs': {}, 'rhs': {}},\n  {'lhs': {}, 'rhs': {}},\n  {'lhs': {}, 'rhs': {}},\n  {'lhs': {}, 'rhs': {}},\n  {'lhs': {}, 'rhs': {}},\n  {'lhs': {}, 'rhs': {}},\n  {'lhs': {}, 'rhs': {}},\n  {'lhs': {}, 'rhs': {}}],\n [{'lhs': {}, 'rhs': {}},\n  {'lhs': {}, 'rhs': {}},\n  {'lhs': {}, 'rhs': {}},\n  {'lhs': {}, 'rhs': {}},\n  {'lhs': {}, 'rhs': {}},\n  {'lhs': {}, 'rhs': {}},\n  {'lhs': {}, 'rhs': {}},\n  {'lhs': {}, 'rhs': {}},\n  {'lhs': {}, 'rhs': {}},\n  {'lhs': {}, 'rhs': {}},\n  {'lhs': {}, 'rhs': {}},\n  {'lhs': {}, 'rhs': {}},\n  {'lhs': {}, 'rhs': {}},\n  {'lhs': {}, 'rhs': {}},\n  {'lhs': {}, 'rhs': {}},\n  {'lhs': {}, 'rhs': {}},\n  {'lhs': {}, 'rhs': {}},\n  {'lhs': {}, 'rhs': {}},\n  {'lhs': {}, 'rhs': {}},\n  {'lhs': {}, 'rhs': {}},\n  {'lhs': {}, 'rhs': {}},\n  {'lhs': {}, 'rhs': {}},\n  {'lhs': {}, 'rhs': {}},\n  {'lhs': {}, 'rhs': {}},\n  {'lhs': {}, 'rhs': {}}],\n [{'lhs': {}, 'rhs': {}},\n  {'lhs': {}, 'rhs': {}},\n  {'lhs': {}, 'rhs': {}},\n  {'lhs': {}, 'rhs': {}},\n  {'lhs': {}, 'rhs': {}},\n  {'lhs': {}, 'rhs': {}},\n  {'lhs': {}, 'rhs': {}},\n  {'lhs': {}, 'rhs': {}},\n  {'lhs': {}, 'rhs': {}},\n  {'lhs': {}, 'rhs': {}},\n  {'lhs': {}, 'rhs': {}},\n  {'lhs': {}, 'rhs': {}},\n  {'lhs': {}, 'rhs': {}},\n  {'lhs': {}, 'rhs': {}},\n  {'lhs': {}, 'rhs': {}},\n  {'lhs': {}, 'rhs': {}},\n  {'lhs': {}, 'rhs': {}},\n  {'lhs': {}, 'rhs': {}},\n  {'lhs': {}, 'rhs': {}},\n  {'lhs': {}, 'rhs': {}},\n  {'lhs': {}, 'rhs': {}},\n  {'lhs': {}, 'rhs': {}},\n  {'lhs': {}, 'rhs': {}},\n  {'lhs': {}, 'rhs': {}},\n  {'lhs': {}, 'rhs': {}}],\n [{'lhs': {}, 'rhs': {}},\n  {'lhs': {}, 'rhs': {}},\n  {'lhs': {}, 'rhs': {}},\n  {'lhs': {}, 'rhs': {}},\n  {'lhs': {}, 'rhs': {}},\n  {'lhs': {}, 'rhs': {}},\n  {'lhs': {}, 'rhs': {}},\n  {'lhs': {}, 'rhs': {}},\n  {'lhs': {}, 'rhs': {}},\n  {'lhs': {}, 'rhs': {}},\n  {'lhs': {}, 'rhs': {}},\n  {'lhs': {}, 'rhs': {}},\n  {'lhs': {}, 'rhs': {}},\n  {'lhs': {}, 'rhs': {}},\n  {'lhs': {}, 'rhs': {}},\n  {'lhs': {}, 'rhs': {}},\n  {'lhs': {}, 'rhs': {}},\n  {'lhs': {}, 'rhs': {}},\n  {'lhs': {}, 'rhs': {}},\n  {'lhs': {}, 'rhs': {}},\n  {'lhs': {}, 'rhs': {}},\n  {'lhs': {}, 'rhs': {}},\n  {'lhs': {}, 'rhs': {}},\n  {'lhs': {}, 'rhs': {}},\n  {'lhs': {}, 'rhs': {}}],\n [{'lhs': {}, 'rhs': {}},\n  {'lhs': {}, 'rhs': {}},\n  {'lhs': {}, 'rhs': {}},\n  {'lhs': {}, 'rhs': {}},\n  {'lhs': {}, 'rhs': {}},\n  {'lhs': {}, 'rhs': {}},\n  {'lhs': {}, 'rhs': {}},\n  {'lhs': {}, 'rhs': {}},\n  {'lhs': {}, 'rhs': {}},\n  {'lhs': {}, 'rhs': {}},\n  {'lhs': {}, 'rhs': {}},\n  {'lhs': {}, 'rhs': {}},\n  {'lhs': {}, 'rhs': {}},\n  {'lhs': {}, 'rhs': {}},\n  {'lhs': {}, 'rhs': {}},\n  {'lhs': {}, 'rhs': {}},\n  {'lhs': {}, 'rhs': {}},\n  {'lhs': {}, 'rhs': {}},\n  {'lhs': {}, 'rhs': {}},\n  {'lhs': {}, 'rhs': {}},\n  {'lhs': {}, 'rhs': {}},\n  {'lhs': {}, 'rhs': {}},\n  {'lhs': {}, 'rhs': {}},\n  {'lhs': {}, 'rhs': {}},\n  {'lhs': {}, 'rhs': {}}],\n [{'lhs': {}, 'rhs': {}},\n  {'lhs': {}, 'rhs': {}},\n  {'lhs': {}, 'rhs': {}},\n  {'lhs': {}, 'rhs': {}},\n  {'lhs': {}, 'rhs': {}},\n  {'lhs': {}, 'rhs': {}},\n  {'lhs': {}, 'rhs': {}},\n  {'lhs': {}, 'rhs': {}},\n  {'lhs': {}, 'rhs': {}},\n  {'lhs': {}, 'rhs': {}},\n  {'lhs': {}, 'rhs': {}},\n  {'lhs': {}, 'rhs': {}},\n  {'lhs': {}, 'rhs': {}},\n  {'lhs': {}, 'rhs': {}},\n  {'lhs': {}, 'rhs': {}},\n  {'lhs': {}, 'rhs': {}},\n  {'lhs': {}, 'rhs': {}},\n  {'lhs': {}, 'rhs': {}},\n  {'lhs': {}, 'rhs': {}},\n  {'lhs': {}, 'rhs': {}},\n  {'lhs': {}, 'rhs': {}},\n  {'lhs': {}, 'rhs': {}},\n  {'lhs': {}, 'rhs': {}},\n  {'lhs': {}, 'rhs': {}},\n  {'lhs': {}, 'rhs': {}}],\n [{'lhs': {}, 'rhs': {}},\n  {'lhs': {}, 'rhs': {}},\n  {'lhs': {}, 'rhs': {}},\n  {'lhs': {}, 'rhs': {}},\n  {'lhs': {}, 'rhs': {}},\n  {'lhs': {}, 'rhs': {}},\n  {'lhs': {}, 'rhs': {}},\n  {'lhs': {}, 'rhs': {}},\n  {'lhs': {}, 'rhs': {}},\n  {'lhs': {}, 'rhs': {}},\n  {'lhs': {}, 'rhs': {}},\n  {'lhs': {}, 'rhs': {}},\n  {'lhs': {}, 'rhs': {}},\n  {'lhs': {}, 'rhs': {}},\n  {'lhs': {}, 'rhs': {}},\n  {'lhs': {}, 'rhs': {}},\n  {'lhs': {}, 'rhs': {}},\n  {'lhs': {}, 'rhs': {}},\n  {'lhs': {}, 'rhs': {}},\n  {'lhs': {}, 'rhs': {}},\n  {'lhs': {}, 'rhs': {}},\n  {'lhs': {}, 'rhs': {}},\n  {'lhs': {}, 'rhs': {}},\n  {'lhs': {}, 'rhs': {}},\n  {'lhs': {}, 'rhs': {}}],\n [{'lhs': {}, 'rhs': {}},\n  {'lhs': {}, 'rhs': {}},\n  {'lhs': {}, 'rhs': {}},\n  {'lhs': {}, 'rhs': {}},\n  {'lhs': {}, 'rhs': {}},\n  {'lhs': {}, 'rhs': {}},\n  {'lhs': {}, 'rhs': {}},\n  {'lhs': {}, 'rhs': {}},\n  {'lhs': {}, 'rhs': {}},\n  {'lhs': {}, 'rhs': {}},\n  {'lhs': {}, 'rhs': {}},\n  {'lhs': {}, 'rhs': {}},\n  {'lhs': {}, 'rhs': {}},\n  {'lhs': {}, 'rhs': {}},\n  {'lhs': {}, 'rhs': {}},\n  {'lhs': {}, 'rhs': {}},\n  {'lhs': {}, 'rhs': {}},\n  {'lhs': {}, 'rhs': {}},\n  {'lhs': {}, 'rhs': {}},\n  {'lhs': {}, 'rhs': {}},\n  {'lhs': {}, 'rhs': {}},\n  {'lhs': {}, 'rhs': {}},\n  {'lhs': {}, 'rhs': {}},\n  {'lhs': {}, 'rhs': {}},\n  {'lhs': {}, 'rhs': {}}],\n [{'lhs': {}, 'rhs': {}},\n  {'lhs': {}, 'rhs': {}},\n  {'lhs': {}, 'rhs': {}},\n  {'lhs': {}, 'rhs': {}},\n  {'lhs': {}, 'rhs': {}},\n  {'lhs': {}, 'rhs': {}},\n  {'lhs': {}, 'rhs': {}},\n  {'lhs': {}, 'rhs': {}},\n  {'lhs': {}, 'rhs': {}},\n  {'lhs': {}, 'rhs': {}},\n  {'lhs': {}, 'rhs': {}},\n  {'lhs': {}, 'rhs': {}},\n  {'lhs': {}, 'rhs': {}},\n  {'lhs': {}, 'rhs': {}},\n  {'lhs': {}, 'rhs': {}},\n  {'lhs': {}, 'rhs': {}},\n  {'lhs': {}, 'rhs': {}},\n  {'lhs': {}, 'rhs': {}},\n  {'lhs': {}, 'rhs': {}},\n  {'lhs': {}, 'rhs': {}},\n  {'lhs': {}, 'rhs': {}},\n  {'lhs': {}, 'rhs': {}},\n  {'lhs': {}, 'rhs': {}},\n  {'lhs': {}, 'rhs': {}},\n  {'lhs': {}, 'rhs': {}}],\n [{'lhs': {}, 'rhs': {}},\n  {'lhs': {}, 'rhs': {}},\n  {'lhs': {}, 'rhs': {}},\n  {'lhs': {}, 'rhs': {}},\n  {'lhs': {}, 'rhs': {}},\n  {'lhs': {}, 'rhs': {}},\n  {'lhs': {}, 'rhs': {}},\n  {'lhs': {}, 'rhs': {}},\n  {'lhs': {}, 'rhs': {}},\n  {'lhs': {}, 'rhs': {}},\n  {'lhs': {}, 'rhs': {}},\n  {'lhs': {}, 'rhs': {}},\n  {'lhs': {}, 'rhs': {}},\n  {'lhs': {}, 'rhs': {}},\n  {'lhs': {}, 'rhs': {}},\n  {'lhs': {}, 'rhs': {}},\n  {'lhs': {}, 'rhs': {}},\n  {'lhs': {}, 'rhs': {}},\n  {'lhs': {}, 'rhs': {}},\n  {'lhs': {}, 'rhs': {}},\n  {'lhs': {}, 'rhs': {}},\n  {'lhs': {}, 'rhs': {}},\n  {'lhs': {}, 'rhs': {}},\n  {'lhs': {}, 'rhs': {}},\n  {'lhs': {}, 'rhs': {}}],\n [{'lhs': {}, 'rhs': {}},\n  {'lhs': {}, 'rhs': {}},\n  {'lhs': {}, 'rhs': {}},\n  {'lhs': {}, 'rhs': {}},\n  {'lhs': {}, 'rhs': {}},\n  {'lhs': {}, 'rhs': {}},\n  {'lhs': {}, 'rhs': {}},\n  {'lhs': {}, 'rhs': {}},\n  {'lhs': {}, 'rhs': {}},\n  {'lhs': {}, 'rhs': {}},\n  {'lhs': {},\n   'rhs': {'src-15-16': 1, 'dest-15-5': 1, 'src-dest-15-16-15-5': 1}},\n  {'lhs': {},\n   'rhs': {'src-15-16': 1, 'dest-15-5': 1, 'src-dest-15-16-15-5': 1}},\n  {'lhs': {},\n   'rhs': {'src-15-16': 1, 'dest-15-5': 1, 'src-dest-15-16-15-5': 1}},\n  {'lhs': {},\n   'rhs': {'src-15-16': 1, 'dest-15-5': 1, 'src-dest-15-16-15-5': 1}},\n  {'lhs': {},\n   'rhs': {'src-15-16': 1, 'dest-15-5': 1, 'src-dest-15-16-15-5': 1}},\n  {'lhs': {},\n   'rhs': {'src-15-16': 1, 'dest-15-5': 1, 'src-dest-15-16-15-5': 1}},\n  {'lhs': {},\n   'rhs': {'src-15-16': 1, 'dest-15-5': 1, 'src-dest-15-16-15-5': 1}},\n  {'lhs': {},\n   'rhs': {'src-15-16': 1, 'dest-15-5': 1, 'src-dest-15-16-15-5': 1}},\n  {'lhs': {},\n   'rhs': {'src-15-16': 1, 'dest-15-5': 1, 'src-dest-15-16-15-5': 1}},\n  {'lhs': {},\n   'rhs': {'src-15-16': 1, 'dest-15-5': 1, 'src-dest-15-16-15-5': 1}},\n  {'lhs': {},\n   'rhs': {'src-15-16': 1, 'dest-15-5': 1, 'src-dest-15-16-15-5': 1}},\n  {'lhs': {},\n   'rhs': {'src-15-16': 1, 'dest-15-5': 1, 'src-dest-15-16-15-5': 1}},\n  {'lhs': {}, 'rhs': {}},\n  {'lhs': {}, 'rhs': {}},\n  {'lhs': {}, 'rhs': {}}],\n [{'lhs': {}, 'rhs': {}},\n  {'lhs': {}, 'rhs': {}},\n  {'lhs': {}, 'rhs': {}},\n  {'lhs': {}, 'rhs': {}},\n  {'lhs': {}, 'rhs': {}},\n  {'lhs': {}, 'rhs': {}},\n  {'lhs': {}, 'rhs': {}},\n  {'lhs': {}, 'rhs': {}},\n  {'lhs': {}, 'rhs': {}},\n  {'lhs': {}, 'rhs': {}},\n  {'lhs': {},\n   'rhs': {'src-15-16': 1, 'dest-15-5': 1, 'src-dest-15-16-15-5': 1}},\n  {'lhs': {}, 'rhs': {}},\n  {'lhs': {}, 'rhs': {}},\n  {'lhs': {}, 'rhs': {}},\n  {'lhs': {}, 'rhs': {}},\n  {'lhs': {}, 'rhs': {}},\n  {'lhs': {}, 'rhs': {}},\n  {'lhs': {}, 'rhs': {}},\n  {'lhs': {}, 'rhs': {}},\n  {'lhs': {}, 'rhs': {}},\n  {'lhs': {}, 'rhs': {}},\n  {'lhs': {},\n   'rhs': {'src-15-16': 1, 'dest-15-5': 1, 'src-dest-15-16-15-5': 1}},\n  {'lhs': {}, 'rhs': {}},\n  {'lhs': {}, 'rhs': {}},\n  {'lhs': {}, 'rhs': {}}],\n [{'lhs': {}, 'rhs': {}},\n  {'lhs': {}, 'rhs': {}},\n  {'lhs': {}, 'rhs': {}},\n  {'lhs': {}, 'rhs': {}},\n  {'lhs': {}, 'rhs': {}},\n  {'lhs': {}, 'rhs': {}},\n  {'lhs': {}, 'rhs': {}},\n  {'lhs': {}, 'rhs': {}},\n  {'lhs': {}, 'rhs': {}},\n  {'lhs': {}, 'rhs': {}},\n  {'lhs': {},\n   'rhs': {'src-15-16': 1, 'dest-15-5': 1, 'src-dest-15-16-15-5': 1}},\n  {'lhs': {}, 'rhs': {}},\n  {'lhs': {}, 'rhs': {}},\n  {'lhs': {}, 'rhs': {}},\n  {'lhs': {}, 'rhs': {}},\n  {'lhs': {}, 'rhs': {}},\n  {'lhs': {}, 'rhs': {}},\n  {'lhs': {}, 'rhs': {}},\n  {'lhs': {}, 'rhs': {}},\n  {'lhs': {}, 'rhs': {}},\n  {'lhs': {}, 'rhs': {}},\n  {'lhs': {},\n   'rhs': {'src-15-16': 1, 'dest-15-5': 1, 'src-dest-15-16-15-5': 1}},\n  {'lhs': {}, 'rhs': {}},\n  {'lhs': {}, 'rhs': {}},\n  {'lhs': {}, 'rhs': {}}],\n [{'lhs': {}, 'rhs': {}},\n  {'lhs': {}, 'rhs': {}},\n  {'lhs': {}, 'rhs': {}},\n  {'lhs': {}, 'rhs': {}},\n  {'lhs': {}, 'rhs': {}},\n  {'lhs': {}, 'rhs': {}},\n  {'lhs': {}, 'rhs': {}},\n  {'lhs': {}, 'rhs': {}},\n  {'lhs': {}, 'rhs': {}},\n  {'lhs': {}, 'rhs': {}},\n  {'lhs': {},\n   'rhs': {'src-15-16': 1, 'dest-15-5': 1, 'src-dest-15-16-15-5': 1}},\n  {'lhs': {}, 'rhs': {}},\n  {'lhs': {}, 'rhs': {}},\n  {'lhs': {}, 'rhs': {}},\n  {'lhs': {}, 'rhs': {}},\n  {'lhs': {}, 'rhs': {}},\n  {'lhs': {}, 'rhs': {}},\n  {'lhs': {}, 'rhs': {}},\n  {'lhs': {}, 'rhs': {}},\n  {'lhs': {}, 'rhs': {}},\n  {'lhs': {}, 'rhs': {}},\n  {'lhs': {},\n   'rhs': {'src-15-16': 1, 'dest-15-5': 1, 'src-dest-15-16-15-5': 1}},\n  {'lhs': {}, 'rhs': {}},\n  {'lhs': {}, 'rhs': {}},\n  {'lhs': {}, 'rhs': {}}],\n [{'lhs': {},\n   'rhs': {'src-14-5': 3, 'dest-16-16': 3, 'src-dest-14-5-16-16': 3}},\n  {'lhs': {},\n   'rhs': {'src-14-5': 5, 'dest-16-16': 5, 'src-dest-14-5-16-16': 5}},\n  {'lhs': {},\n   'rhs': {'src-14-5': 7, 'dest-16-16': 7, 'src-dest-14-5-16-16': 7}},\n  {'lhs': {'src-14-5': 2, 'dest-16-16': 2, 'src-dest-14-5-16-16': 2},\n   'rhs': {'src-14-5': 18, 'dest-16-16': 18, 'src-dest-14-5-16-16': 18}},\n  {'lhs': {'src-14-5': 1, 'dest-16-16': 1, 'src-dest-14-5-16-16': 1},\n   'rhs': {'src-14-5': 2, 'dest-16-16': 2, 'src-dest-14-5-16-16': 2}},\n  {'lhs': {'src-14-5': 2, 'dest-16-16': 2, 'src-dest-14-5-16-16': 2},\n   'rhs': {'src-14-5': 7, 'dest-16-16': 7, 'src-dest-14-5-16-16': 7}},\n  {'lhs': {'src-14-5': 1, 'dest-16-16': 1, 'src-dest-14-5-16-16': 1},\n   'rhs': {'src-14-5': 2, 'dest-16-16': 2, 'src-dest-14-5-16-16': 2}},\n  {'lhs': {'src-14-5': 2, 'dest-16-16': 2, 'src-dest-14-5-16-16': 2},\n   'rhs': {'src-14-5': 2, 'dest-16-16': 2, 'src-dest-14-5-16-16': 2}},\n  {'lhs': {},\n   'rhs': {'src-15-16': 1,\n    'dest-15-5': 1,\n    'src-dest-15-16-15-5': 1,\n    'src-14-5': 1,\n    'dest-16-16': 1,\n    'src-dest-14-5-16-16': 1}},\n  {'lhs': {},\n   'rhs': {'src-15-16': 1,\n    'dest-15-5': 1,\n    'src-dest-15-16-15-5': 1,\n    'src-14-5': 1,\n    'dest-16-16': 1,\n    'src-dest-14-5-16-16': 1}},\n  {'lhs': {},\n   'rhs': {'src-15-16': 2,\n    'dest-15-5': 2,\n    'src-dest-15-16-15-5': 2,\n    'src-14-5': 2,\n    'dest-16-16': 2,\n    'src-dest-14-5-16-16': 2}},\n  {'lhs': {},\n   'rhs': {'src-15-16': 1,\n    'dest-15-5': 1,\n    'src-dest-15-16-15-5': 1,\n    'src-14-5': 1,\n    'dest-16-16': 1,\n    'src-dest-14-5-16-16': 1}},\n  {'lhs': {}, 'rhs': {}},\n  {'lhs': {}, 'rhs': {}},\n  {'lhs': {}, 'rhs': {}},\n  {'lhs': {}, 'rhs': {}},\n  {'lhs': {}, 'rhs': {}},\n  {'lhs': {}, 'rhs': {}},\n  {'lhs': {}, 'rhs': {}},\n  {'lhs': {}, 'rhs': {}},\n  {'lhs': {}, 'rhs': {}},\n  {'lhs': {},\n   'rhs': {'src-15-16': 1, 'dest-15-5': 1, 'src-dest-15-16-15-5': 1}},\n  {'lhs': {}, 'rhs': {}},\n  {'lhs': {}, 'rhs': {}},\n  {'lhs': {}, 'rhs': {}}],\n [{'lhs': {'src-14-5': 1,\n    'dest-16-16': 2,\n    'src-dest-14-5-16-16': 1,\n    'src-16-5': 1,\n    'src-dest-16-5-16-16': 1},\n   'rhs': {'src-14-5': 2,\n    'dest-16-16': 3,\n    'src-dest-14-5-16-16': 2,\n    'src-16-5': 1,\n    'src-dest-16-5-16-16': 1}},\n  {'lhs': {'src-14-5': 1,\n    'dest-16-16': 2,\n    'src-dest-14-5-16-16': 1,\n    'src-16-5': 1,\n    'src-dest-16-5-16-16': 1},\n   'rhs': {'src-16-5': 2, 'dest-16-16': 2, 'src-dest-16-5-16-16': 2}},\n  {'lhs': {'src-14-5': 1,\n    'dest-16-16': 2,\n    'src-dest-14-5-16-16': 1,\n    'src-16-5': 1,\n    'src-dest-16-5-16-16': 1},\n   'rhs': {'src-16-5': 1, 'dest-16-16': 1, 'src-dest-16-5-16-16': 1}},\n  {'lhs': {'src-14-5': 1,\n    'dest-16-16': 2,\n    'src-dest-14-5-16-16': 1,\n    'src-16-5': 1,\n    'src-dest-16-5-16-16': 1},\n   'rhs': {'src-16-5': 1, 'dest-16-16': 1, 'src-dest-16-5-16-16': 1}},\n  {'lhs': {'src-16-5': 1, 'dest-16-16': 1, 'src-dest-16-5-16-16': 1},\n   'rhs': {'src-16-5': 3, 'dest-16-16': 3, 'src-dest-16-5-16-16': 3}},\n  {'lhs': {}, 'rhs': {}},\n  {'lhs': {'src-16-5': 1,\n    'dest-16-16': 1,\n    'src-dest-16-5-16-16': 1,\n    'src-15-16': 1,\n    'dest-15-5': 1,\n    'src-dest-15-16-15-5': 1},\n   'rhs': {'src-16-5': 1,\n    'dest-16-16': 1,\n    'src-dest-16-5-16-16': 1,\n    'src-15-16': 1,\n    'dest-15-5': 1,\n    'src-dest-15-16-15-5': 1}},\n  {'lhs': {'src-16-5': 1,\n    'dest-16-16': 2,\n    'src-dest-16-5-16-16': 1,\n    'src-15-16': 1,\n    'dest-15-5': 1,\n    'src-dest-15-16-15-5': 1,\n    'src-14-5': 1,\n    'src-dest-14-5-16-16': 1},\n   'rhs': {'src-16-5': 1,\n    'dest-16-16': 2,\n    'src-dest-16-5-16-16': 1,\n    'src-15-16': 1,\n    'dest-15-5': 1,\n    'src-dest-15-16-15-5': 1,\n    'src-14-5': 1,\n    'src-dest-14-5-16-16': 1}},\n  {'lhs': {'src-16-5': 1,\n    'dest-16-16': 2,\n    'src-dest-16-5-16-16': 1,\n    'src-15-16': 1,\n    'dest-15-5': 1,\n    'src-dest-15-16-15-5': 1,\n    'src-14-5': 1,\n    'src-dest-14-5-16-16': 1},\n   'rhs': {'src-16-5': 1,\n    'dest-16-16': 2,\n    'src-dest-16-5-16-16': 1,\n    'src-15-16': 1,\n    'dest-15-5': 1,\n    'src-dest-15-16-15-5': 1,\n    'src-14-5': 1,\n    'src-dest-14-5-16-16': 1}},\n  {'lhs': {'src-16-5': 1,\n    'dest-16-16': 2,\n    'src-dest-16-5-16-16': 1,\n    'src-15-16': 1,\n    'dest-15-5': 1,\n    'src-dest-15-16-15-5': 1,\n    'src-14-5': 1,\n    'src-dest-14-5-16-16': 1},\n   'rhs': {'src-16-5': 1,\n    'dest-16-16': 2,\n    'src-dest-16-5-16-16': 1,\n    'src-14-5': 1,\n    'src-dest-14-5-16-16': 1}},\n  {'lhs': {'src-16-5': 1,\n    'dest-16-16': 2,\n    'src-dest-16-5-16-16': 1,\n    'src-15-16': 1,\n    'dest-15-5': 1,\n    'src-dest-15-16-15-5': 1,\n    'src-14-5': 1,\n    'src-dest-14-5-16-16': 1},\n   'rhs': {'src-16-5': 1,\n    'dest-16-16': 2,\n    'src-dest-16-5-16-16': 1,\n    'src-15-16': 1,\n    'dest-15-5': 1,\n    'src-dest-15-16-15-5': 1,\n    'src-14-5': 1,\n    'src-dest-14-5-16-16': 1}},\n  {'lhs': {'src-16-5': 2,\n    'dest-16-16': 4,\n    'src-dest-16-5-16-16': 2,\n    'src-14-5': 2,\n    'src-dest-14-5-16-16': 2},\n   'rhs': {'src-14-5': 4,\n    'dest-16-16': 5,\n    'src-dest-14-5-16-16': 4,\n    'src-16-5': 1,\n    'src-dest-16-5-16-16': 1,\n    'src-15-16': 1,\n    'dest-15-5': 1,\n    'src-dest-15-16-15-5': 1}},\n  {'lhs': {'src-16-5': 2,\n    'dest-16-16': 4,\n    'src-dest-16-5-16-16': 2,\n    'src-14-5': 2,\n    'src-dest-14-5-16-16': 2},\n   'rhs': {'src-14-5': 2,\n    'dest-16-16': 3,\n    'src-dest-14-5-16-16': 2,\n    'src-16-5': 1,\n    'src-dest-16-5-16-16': 1}},\n  {'lhs': {'src-16-5': 2,\n    'dest-16-16': 4,\n    'src-dest-16-5-16-16': 2,\n    'src-14-5': 2,\n    'src-dest-14-5-16-16': 2},\n   'rhs': {'src-14-5': 2,\n    'dest-16-16': 3,\n    'src-dest-14-5-16-16': 2,\n    'src-16-5': 1,\n    'src-dest-16-5-16-16': 1}},\n  {'lhs': {}, 'rhs': {}},\n  {'lhs': {}, 'rhs': {}},\n  {'lhs': {'src-15-16': 1, 'dest-15-5': 1, 'src-dest-15-16-15-5': 1},\n   'rhs': {'src-15-16': 2, 'dest-15-5': 2, 'src-dest-15-16-15-5': 2}},\n  {'lhs': {'src-15-16': 1, 'dest-15-5': 1, 'src-dest-15-16-15-5': 1},\n   'rhs': {'src-15-16': 1, 'dest-15-5': 1, 'src-dest-15-16-15-5': 1}},\n  {'lhs': {'src-15-16': 1, 'dest-15-5': 1, 'src-dest-15-16-15-5': 1},\n   'rhs': {'src-15-16': 1, 'dest-15-5': 1, 'src-dest-15-16-15-5': 1}},\n  {'lhs': {},\n   'rhs': {'src-15-16': 1, 'dest-15-5': 1, 'src-dest-15-16-15-5': 1}},\n  {'lhs': {},\n   'rhs': {'src-15-16': 1, 'dest-15-5': 1, 'src-dest-15-16-15-5': 1}},\n  {'lhs': {},\n   'rhs': {'src-15-16': 1, 'dest-15-5': 1, 'src-dest-15-16-15-5': 1}},\n  {'lhs': {}, 'rhs': {}},\n  {'lhs': {}, 'rhs': {}},\n  {'lhs': {}, 'rhs': {}}],\n [{'lhs': {'src-14-5': 1,\n    'dest-16-16': 2,\n    'src-dest-14-5-16-16': 1,\n    'src-16-5': 1,\n    'src-dest-16-5-16-16': 1},\n   'rhs': {'src-14-5': 2,\n    'dest-16-16': 3,\n    'src-dest-14-5-16-16': 2,\n    'src-16-5': 1,\n    'src-dest-16-5-16-16': 1}},\n  {'lhs': {}, 'rhs': {}},\n  {'lhs': {}, 'rhs': {}},\n  {'lhs': {}, 'rhs': {}},\n  {'lhs': {'src-16-5': 1, 'dest-16-16': 1, 'src-dest-16-5-16-16': 1},\n   'rhs': {'src-16-5': 1, 'dest-16-16': 1, 'src-dest-16-5-16-16': 1}},\n  {'lhs': {'src-16-5': 2, 'dest-16-16': 2, 'src-dest-16-5-16-16': 2},\n   'rhs': {'src-16-5': 2, 'dest-16-16': 2, 'src-dest-16-5-16-16': 2}},\n  {'lhs': {'src-16-5': 1, 'dest-16-16': 1, 'src-dest-16-5-16-16': 1},\n   'rhs': {'src-16-5': 1, 'dest-16-16': 1, 'src-dest-16-5-16-16': 1}},\n  {'lhs': {}, 'rhs': {}},\n  {'lhs': {}, 'rhs': {}},\n  {'lhs': {}, 'rhs': {}},\n  {'lhs': {'src-15-16': 1, 'dest-15-5': 1, 'src-dest-15-16-15-5': 1},\n   'rhs': {'src-16-5': 1, 'dest-16-16': 1, 'src-dest-16-5-16-16': 1}},\n  {'lhs': {'src-14-5': 1,\n    'dest-16-16': 2,\n    'src-dest-14-5-16-16': 1,\n    'src-16-5': 1,\n    'src-dest-16-5-16-16': 1},\n   'rhs': {'src-16-5': 2,\n    'dest-16-16': 4,\n    'src-dest-16-5-16-16': 2,\n    'src-14-5': 2,\n    'src-dest-14-5-16-16': 2}},\n  {'lhs': {},\n   'rhs': {'src-16-5': 1, 'dest-16-16': 1, 'src-dest-16-5-16-16': 1}},\n  {'lhs': {'src-16-5': 2,\n    'dest-16-16': 4,\n    'src-dest-16-5-16-16': 2,\n    'src-14-5': 2,\n    'src-dest-14-5-16-16': 2},\n   'rhs': {'src-16-5': 2,\n    'dest-16-16': 4,\n    'src-dest-16-5-16-16': 2,\n    'src-14-5': 2,\n    'src-dest-14-5-16-16': 2}},\n  {'lhs': {'src-16-5': 2,\n    'dest-16-16': 4,\n    'src-dest-16-5-16-16': 2,\n    'src-14-5': 2,\n    'src-dest-14-5-16-16': 2},\n   'rhs': {'src-16-5': 2,\n    'dest-16-16': 4,\n    'src-dest-16-5-16-16': 2,\n    'src-14-5': 2,\n    'src-dest-14-5-16-16': 2}},\n  {'lhs': {'src-16-5': 2,\n    'dest-16-16': 4,\n    'src-dest-16-5-16-16': 2,\n    'src-14-5': 2,\n    'src-dest-14-5-16-16': 2},\n   'rhs': {'src-16-5': 2,\n    'dest-16-16': 4,\n    'src-dest-16-5-16-16': 2,\n    'src-14-5': 2,\n    'src-dest-14-5-16-16': 2}},\n  {'lhs': {}, 'rhs': {}},\n  {'lhs': {}, 'rhs': {}},\n  {'lhs': {'src-15-16': 1, 'dest-15-5': 1, 'src-dest-15-16-15-5': 1},\n   'rhs': {}},\n  {'lhs': {'src-15-16': 1, 'dest-15-5': 1, 'src-dest-15-16-15-5': 1},\n   'rhs': {}},\n  {'lhs': {'src-15-16': 1, 'dest-15-5': 1, 'src-dest-15-16-15-5': 1},\n   'rhs': {}},\n  {'lhs': {'src-15-16': 1, 'dest-15-5': 1, 'src-dest-15-16-15-5': 1},\n   'rhs': {}},\n  {'lhs': {}, 'rhs': {}},\n  {'lhs': {}, 'rhs': {}},\n  {'lhs': {}, 'rhs': {}}],\n [{'lhs': {'src-14-5': 1,\n    'dest-16-16': 2,\n    'src-dest-14-5-16-16': 1,\n    'src-16-5': 1,\n    'src-dest-16-5-16-16': 1},\n   'rhs': {'src-14-5': 2,\n    'dest-16-16': 3,\n    'src-dest-14-5-16-16': 2,\n    'src-16-5': 1,\n    'src-dest-16-5-16-16': 1}},\n  {'lhs': {}, 'rhs': {}},\n  {'lhs': {}, 'rhs': {}},\n  {'lhs': {}, 'rhs': {}},\n  {'lhs': {}, 'rhs': {}},\n  {'lhs': {}, 'rhs': {}},\n  {'lhs': {}, 'rhs': {}},\n  {'lhs': {}, 'rhs': {}},\n  {'lhs': {}, 'rhs': {}},\n  {'lhs': {}, 'rhs': {}},\n  {'lhs': {'src-15-16': 1, 'dest-15-5': 1, 'src-dest-15-16-15-5': 1},\n   'rhs': {}},\n  {'lhs': {'src-14-5': 1,\n    'dest-16-16': 2,\n    'src-dest-14-5-16-16': 1,\n    'src-16-5': 1,\n    'src-dest-16-5-16-16': 1},\n   'rhs': {'src-14-5': 3,\n    'dest-16-16': 4,\n    'src-dest-14-5-16-16': 3,\n    'src-16-5': 1,\n    'src-dest-16-5-16-16': 1}},\n  {'lhs': {}, 'rhs': {}},\n  {'lhs': {}, 'rhs': {}},\n  {'lhs': {}, 'rhs': {}},\n  {'lhs': {}, 'rhs': {}},\n  {'lhs': {}, 'rhs': {}},\n  {'lhs': {}, 'rhs': {}},\n  {'lhs': {}, 'rhs': {}},\n  {'lhs': {}, 'rhs': {}},\n  {'lhs': {}, 'rhs': {}},\n  {'lhs': {'src-15-16': 1, 'dest-15-5': 1, 'src-dest-15-16-15-5': 1},\n   'rhs': {}},\n  {'lhs': {}, 'rhs': {}},\n  {'lhs': {}, 'rhs': {}},\n  {'lhs': {}, 'rhs': {}}],\n [{'lhs': {'src-14-5': 1,\n    'dest-16-16': 2,\n    'src-dest-14-5-16-16': 1,\n    'src-16-5': 1,\n    'src-dest-16-5-16-16': 1},\n   'rhs': {'src-14-5': 2,\n    'dest-16-16': 3,\n    'src-dest-14-5-16-16': 2,\n    'src-16-5': 1,\n    'src-dest-16-5-16-16': 1}},\n  {'lhs': {}, 'rhs': {}},\n  {'lhs': {}, 'rhs': {}},\n  {'lhs': {}, 'rhs': {}},\n  {'lhs': {}, 'rhs': {}},\n  {'lhs': {}, 'rhs': {}},\n  {'lhs': {}, 'rhs': {}},\n  {'lhs': {}, 'rhs': {}},\n  {'lhs': {}, 'rhs': {}},\n  {'lhs': {}, 'rhs': {}},\n  {'lhs': {'src-15-16': 1, 'dest-15-5': 1, 'src-dest-15-16-15-5': 1},\n   'rhs': {}},\n  {'lhs': {'src-14-5': 1,\n    'dest-16-16': 2,\n    'src-dest-14-5-16-16': 1,\n    'src-16-5': 1,\n    'src-dest-16-5-16-16': 1},\n   'rhs': {'src-14-5': 2,\n    'dest-16-16': 3,\n    'src-dest-14-5-16-16': 2,\n    'src-16-5': 1,\n    'src-dest-16-5-16-16': 1}},\n  {'lhs': {}, 'rhs': {}},\n  {'lhs': {}, 'rhs': {}},\n  {'lhs': {}, 'rhs': {}},\n  {'lhs': {}, 'rhs': {}},\n  {'lhs': {}, 'rhs': {}},\n  {'lhs': {}, 'rhs': {}},\n  {'lhs': {}, 'rhs': {}},\n  {'lhs': {}, 'rhs': {}},\n  {'lhs': {}, 'rhs': {}},\n  {'lhs': {'src-15-16': 1, 'dest-15-5': 1, 'src-dest-15-16-15-5': 1},\n   'rhs': {}},\n  {'lhs': {}, 'rhs': {}},\n  {'lhs': {}, 'rhs': {}},\n  {'lhs': {}, 'rhs': {}}],\n [{'lhs': {'src-14-5': 1,\n    'dest-16-16': 2,\n    'src-dest-14-5-16-16': 1,\n    'src-16-5': 1,\n    'src-dest-16-5-16-16': 1},\n   'rhs': {'src-14-5': 2,\n    'dest-16-16': 3,\n    'src-dest-14-5-16-16': 2,\n    'src-16-5': 1,\n    'src-dest-16-5-16-16': 1}},\n  {'lhs': {'src-14-5': 1,\n    'dest-16-16': 2,\n    'src-dest-14-5-16-16': 1,\n    'src-16-5': 1,\n    'src-dest-16-5-16-16': 1},\n   'rhs': {'src-14-5': 2,\n    'dest-16-16': 3,\n    'src-dest-14-5-16-16': 2,\n    'src-16-5': 1,\n    'src-dest-16-5-16-16': 1}},\n  {'lhs': {'src-14-5': 1,\n    'dest-16-16': 2,\n    'src-dest-14-5-16-16': 1,\n    'src-16-5': 1,\n    'src-dest-16-5-16-16': 1},\n   'rhs': {'src-14-5': 2,\n    'dest-16-16': 3,\n    'src-dest-14-5-16-16': 2,\n    'src-16-5': 1,\n    'src-dest-16-5-16-16': 1}},\n  {'lhs': {'src-14-5': 1,\n    'dest-16-16': 2,\n    'src-dest-14-5-16-16': 1,\n    'src-16-5': 1,\n    'src-dest-16-5-16-16': 1},\n   'rhs': {'src-14-5': 2,\n    'dest-16-16': 3,\n    'src-dest-14-5-16-16': 2,\n    'src-16-5': 1,\n    'src-dest-16-5-16-16': 1}},\n  {'lhs': {'src-14-5': 1,\n    'dest-16-16': 2,\n    'src-dest-14-5-16-16': 1,\n    'src-16-5': 1,\n    'src-dest-16-5-16-16': 1},\n   'rhs': {'src-14-5': 2,\n    'dest-16-16': 3,\n    'src-dest-14-5-16-16': 2,\n    'src-16-5': 1,\n    'src-dest-16-5-16-16': 1}},\n  {'lhs': {'src-14-5': 1,\n    'dest-16-16': 2,\n    'src-dest-14-5-16-16': 1,\n    'src-16-5': 1,\n    'src-dest-16-5-16-16': 1},\n   'rhs': {'src-14-5': 2,\n    'dest-16-16': 3,\n    'src-dest-14-5-16-16': 2,\n    'src-16-5': 1,\n    'src-dest-16-5-16-16': 1}},\n  {'lhs': {'src-14-5': 1,\n    'dest-16-16': 2,\n    'src-dest-14-5-16-16': 1,\n    'src-16-5': 1,\n    'src-dest-16-5-16-16': 1},\n   'rhs': {'src-14-5': 2,\n    'dest-16-16': 3,\n    'src-dest-14-5-16-16': 2,\n    'src-16-5': 1,\n    'src-dest-16-5-16-16': 1}},\n  {'lhs': {'src-14-5': 1,\n    'dest-16-16': 2,\n    'src-dest-14-5-16-16': 1,\n    'src-16-5': 1,\n    'src-dest-16-5-16-16': 1},\n   'rhs': {'src-14-5': 2,\n    'dest-16-16': 3,\n    'src-dest-14-5-16-16': 2,\n    'src-16-5': 1,\n    'src-dest-16-5-16-16': 1}},\n  {'lhs': {'src-14-5': 1,\n    'dest-16-16': 2,\n    'src-dest-14-5-16-16': 1,\n    'src-16-5': 1,\n    'src-dest-16-5-16-16': 1},\n   'rhs': {'src-14-5': 2,\n    'dest-16-16': 3,\n    'src-dest-14-5-16-16': 2,\n    'src-16-5': 1,\n    'src-dest-16-5-16-16': 1}},\n  {'lhs': {'src-14-5': 2,\n    'dest-16-16': 3,\n    'src-dest-14-5-16-16': 2,\n    'src-16-5': 1,\n    'src-dest-16-5-16-16': 1},\n   'rhs': {'src-14-5': 2,\n    'dest-16-16': 4,\n    'src-dest-14-5-16-16': 2,\n    'src-16-5': 2,\n    'src-dest-16-5-16-16': 2}},\n  {'lhs': {'src-14-5': 1,\n    'dest-16-16': 2,\n    'src-dest-14-5-16-16': 1,\n    'src-16-5': 1,\n    'src-dest-16-5-16-16': 1,\n    'src-15-16': 1,\n    'dest-15-5': 1,\n    'src-dest-15-16-15-5': 1},\n   'rhs': {'src-14-5': 2,\n    'dest-16-16': 3,\n    'src-dest-14-5-16-16': 2,\n    'src-16-5': 1,\n    'src-dest-16-5-16-16': 1}},\n  {'lhs': {'src-14-5': 1,\n    'dest-16-16': 2,\n    'src-dest-14-5-16-16': 1,\n    'src-16-5': 1,\n    'src-dest-16-5-16-16': 1},\n   'rhs': {'src-14-5': 2,\n    'dest-16-16': 4,\n    'src-dest-14-5-16-16': 2,\n    'src-16-5': 2,\n    'src-dest-16-5-16-16': 2}},\n  {'lhs': {}, 'rhs': {}},\n  {'lhs': {}, 'rhs': {}},\n  {'lhs': {}, 'rhs': {}},\n  {'lhs': {}, 'rhs': {}},\n  {'lhs': {}, 'rhs': {}},\n  {'lhs': {}, 'rhs': {}},\n  {'lhs': {}, 'rhs': {}},\n  {'lhs': {}, 'rhs': {}},\n  {'lhs': {}, 'rhs': {}},\n  {'lhs': {'src-15-16': 1, 'dest-15-5': 1, 'src-dest-15-16-15-5': 1},\n   'rhs': {}},\n  {'lhs': {}, 'rhs': {}},\n  {'lhs': {}, 'rhs': {}},\n  {'lhs': {}, 'rhs': {}}],\n [{'lhs': {}, 'rhs': {}},\n  {'lhs': {}, 'rhs': {}},\n  {'lhs': {}, 'rhs': {}},\n  {'lhs': {}, 'rhs': {}},\n  {'lhs': {}, 'rhs': {}},\n  {'lhs': {}, 'rhs': {}},\n  {'lhs': {}, 'rhs': {}},\n  {'lhs': {}, 'rhs': {}},\n  {'lhs': {}, 'rhs': {}},\n  {'lhs': {}, 'rhs': {}},\n  {'lhs': {'src-15-16': 1, 'dest-15-5': 1, 'src-dest-15-16-15-5': 1},\n   'rhs': {}},\n  {'lhs': {'src-15-16': 1, 'dest-15-5': 1, 'src-dest-15-16-15-5': 1},\n   'rhs': {}},\n  {'lhs': {'src-15-16': 1, 'dest-15-5': 1, 'src-dest-15-16-15-5': 1},\n   'rhs': {}},\n  {'lhs': {'src-15-16': 1, 'dest-15-5': 1, 'src-dest-15-16-15-5': 1},\n   'rhs': {}},\n  {'lhs': {'src-15-16': 1, 'dest-15-5': 1, 'src-dest-15-16-15-5': 1},\n   'rhs': {}},\n  {'lhs': {'src-15-16': 1, 'dest-15-5': 1, 'src-dest-15-16-15-5': 1},\n   'rhs': {}},\n  {'lhs': {'src-15-16': 1, 'dest-15-5': 1, 'src-dest-15-16-15-5': 1},\n   'rhs': {}},\n  {'lhs': {'src-15-16': 1, 'dest-15-5': 1, 'src-dest-15-16-15-5': 1},\n   'rhs': {}},\n  {'lhs': {'src-15-16': 1, 'dest-15-5': 1, 'src-dest-15-16-15-5': 1},\n   'rhs': {}},\n  {'lhs': {'src-15-16': 1, 'dest-15-5': 1, 'src-dest-15-16-15-5': 1},\n   'rhs': {}},\n  {'lhs': {'src-15-16': 1, 'dest-15-5': 1, 'src-dest-15-16-15-5': 1},\n   'rhs': {}},\n  {'lhs': {'src-15-16': 1, 'dest-15-5': 1, 'src-dest-15-16-15-5': 1},\n   'rhs': {}},\n  {'lhs': {}, 'rhs': {}},\n  {'lhs': {}, 'rhs': {}},\n  {'lhs': {}, 'rhs': {}}],\n [{'lhs': {}, 'rhs': {}},\n  {'lhs': {}, 'rhs': {}},\n  {'lhs': {}, 'rhs': {}},\n  {'lhs': {}, 'rhs': {}},\n  {'lhs': {}, 'rhs': {}},\n  {'lhs': {}, 'rhs': {}},\n  {'lhs': {}, 'rhs': {}},\n  {'lhs': {}, 'rhs': {}},\n  {'lhs': {}, 'rhs': {}},\n  {'lhs': {}, 'rhs': {}},\n  {'lhs': {}, 'rhs': {}},\n  {'lhs': {}, 'rhs': {}},\n  {'lhs': {}, 'rhs': {}},\n  {'lhs': {}, 'rhs': {}},\n  {'lhs': {}, 'rhs': {}},\n  {'lhs': {}, 'rhs': {}},\n  {'lhs': {}, 'rhs': {}},\n  {'lhs': {}, 'rhs': {}},\n  {'lhs': {}, 'rhs': {}},\n  {'lhs': {}, 'rhs': {}},\n  {'lhs': {}, 'rhs': {}},\n  {'lhs': {}, 'rhs': {}},\n  {'lhs': {}, 'rhs': {}},\n  {'lhs': {}, 'rhs': {}},\n  {'lhs': {}, 'rhs': {}}],\n [{'lhs': {}, 'rhs': {}},\n  {'lhs': {}, 'rhs': {}},\n  {'lhs': {}, 'rhs': {}},\n  {'lhs': {}, 'rhs': {}},\n  {'lhs': {}, 'rhs': {}},\n  {'lhs': {}, 'rhs': {}},\n  {'lhs': {}, 'rhs': {}},\n  {'lhs': {}, 'rhs': {}},\n  {'lhs': {}, 'rhs': {}},\n  {'lhs': {}, 'rhs': {}},\n  {'lhs': {}, 'rhs': {}},\n  {'lhs': {}, 'rhs': {}},\n  {'lhs': {}, 'rhs': {}},\n  {'lhs': {}, 'rhs': {}},\n  {'lhs': {}, 'rhs': {}},\n  {'lhs': {}, 'rhs': {}},\n  {'lhs': {}, 'rhs': {}},\n  {'lhs': {}, 'rhs': {}},\n  {'lhs': {}, 'rhs': {}},\n  {'lhs': {}, 'rhs': {}},\n  {'lhs': {}, 'rhs': {}},\n  {'lhs': {}, 'rhs': {}},\n  {'lhs': {}, 'rhs': {}},\n  {'lhs': {}, 'rhs': {}},\n  {'lhs': {}, 'rhs': {}}],\n [{'lhs': {}, 'rhs': {}},\n  {'lhs': {}, 'rhs': {}},\n  {'lhs': {}, 'rhs': {}},\n  {'lhs': {}, 'rhs': {}},\n  {'lhs': {}, 'rhs': {}},\n  {'lhs': {}, 'rhs': {}},\n  {'lhs': {}, 'rhs': {}},\n  {'lhs': {}, 'rhs': {}},\n  {'lhs': {}, 'rhs': {}},\n  {'lhs': {}, 'rhs': {}},\n  {'lhs': {}, 'rhs': {}},\n  {'lhs': {}, 'rhs': {}},\n  {'lhs': {}, 'rhs': {}},\n  {'lhs': {}, 'rhs': {}},\n  {'lhs': {}, 'rhs': {}},\n  {'lhs': {}, 'rhs': {}},\n  {'lhs': {}, 'rhs': {}},\n  {'lhs': {}, 'rhs': {}},\n  {'lhs': {}, 'rhs': {}},\n  {'lhs': {}, 'rhs': {}},\n  {'lhs': {}, 'rhs': {}},\n  {'lhs': {}, 'rhs': {}},\n  {'lhs': {}, 'rhs': {}},\n  {'lhs': {}, 'rhs': {}},\n  {'lhs': {}, 'rhs': {}}],\n [{'lhs': {}, 'rhs': {}},\n  {'lhs': {}, 'rhs': {}},\n  {'lhs': {}, 'rhs': {}},\n  {'lhs': {}, 'rhs': {}},\n  {'lhs': {}, 'rhs': {}},\n  {'lhs': {}, 'rhs': {}},\n  {'lhs': {}, 'rhs': {}},\n  {'lhs': {}, 'rhs': {}},\n  {'lhs': {}, 'rhs': {}},\n  {'lhs': {}, 'rhs': {}},\n  {'lhs': {}, 'rhs': {}},\n  {'lhs': {}, 'rhs': {}},\n  {'lhs': {}, 'rhs': {}},\n  {'lhs': {}, 'rhs': {}},\n  {'lhs': {}, 'rhs': {}},\n  {'lhs': {}, 'rhs': {}},\n  {'lhs': {}, 'rhs': {}},\n  {'lhs': {}, 'rhs': {}},\n  {'lhs': {}, 'rhs': {}},\n  {'lhs': {}, 'rhs': {}},\n  {'lhs': {}, 'rhs': {}},\n  {'lhs': {}, 'rhs': {}},\n  {'lhs': {}, 'rhs': {}},\n  {'lhs': {}, 'rhs': {}},\n  {'lhs': {}, 'rhs': {}}]]"
     },
     "execution_count": 5,
     "metadata": {},
     "output_type": "execute_result"
    }
   ],
   "source": [
    "\n",
    "\n",
    "def agent_start_end(agent_episode):\n",
    "    start = -1\n",
    "    for i, (pos1, pos2) in enumerate(agent_episode):\n",
    "        if pos1 != 0 and pos2 != 0 and start == -1:\n",
    "            start = i\n",
    "        elif pos1 == 0 and pos2 == 0 and start != -1:\n",
    "            return start, i - 1\n",
    "    return start, len(agent_episode) - 1\n",
    "\n",
    "def agents(level_data):\n",
    "    epi_agent = episode_per_agent(level_data)\n",
    "    agents_ = []\n",
    "    for agent in level_data[\"environmentData\"][\"agents\"]:\n",
    "        agent_start, agent_end = agent_start_end(epi_agent[agent[\"agent_index\"]])\n",
    "        agents_.append({# \"src\": agent[\"initial_position\"], \"dest\": agent[\"target\"],\n",
    "                        \"index\": agent[\"agent_index\"],\n",
    "                        \"src_x\": agent[\"initial_position\"][0], \"src_y\": agent[\"initial_position\"][1],\n",
    "                        \"dest_x\": agent[\"target\"][0], \"dest_y\": agent[\"target\"][1],\n",
    "                        \"start_t\": agent_start, \"end_t\": agent_end})\n",
    "    keys = [(\"src\", itemgetter(\"src_x\", \"src_y\")),\n",
    "            (\"dest\", itemgetter(\"dest_x\", \"dest_y\")),\n",
    "            (\"src-dest\", itemgetter(\"src_x\", \"src_y\", \"dest_x\", \"dest_y\"))]\n",
    "    for index_name, key in keys:\n",
    "        for _, group in groupby(sorted(agents_, key=key), key=key):\n",
    "            for i, agent in enumerate(sorted(group, key=itemgetter(\"start_t\"))):\n",
    "                agent[\"%s-index\" % index_name] = i\n",
    "    return sorted(agents_, key=lambda x: x[\"index\"])\n",
    "\n",
    "def group_agents(by, agents_):\n",
    "    if not (by == \"src\" or by == \"dest\" or by == \"src dest\"):\n",
    "        raise RuntimeError(\"by must be src or dest or 'src dest'\")\n",
    "    if by == \"src dest\":\n",
    "        key = itemgetter(\"src_x\", \"src_y\", \"dest_x\", \"dest_y\")\n",
    "    else:\n",
    "        key = itemgetter(\"%s_x\" % by, \"%s_y\" % by)\n",
    "    groups = []\n",
    "    for key, group in groupby(sorted(agents_, key=key), key=key):\n",
    "        groups.append((key, list(group)))\n",
    "    return groups\n",
    "\n",
    "\n",
    "def heatmap_data(level_data):\n",
    "    agents_ = agents(level_data)\n",
    "    epi_agent = episode_per_agent(level_data)\n",
    "    grid = np.array(level_data[\"environmentData\"][\"grid\"])\n",
    "    heatmap = [[{} for j in range(grid.shape[0])] for i in range(grid.shape[1])]\n",
    "    for agent_index, agent_episode in epi_agent.items():\n",
    "        for (pos1, pos2) in agent_episode:\n",
    "            values = [agents_[agent_index][\"src_x\"], agents_[agent_index][\"src_y\"],\n",
    "                      agents_[agent_index][\"dest_x\"], agents_[agent_index][\"dest_y\"]]\n",
    "            keys = [\"src-%d-%d\" % (values[0], values[1]),\n",
    "                    \"dest-%d-%d\"% (values[2], values[3]),\n",
    "                    \"src-dest-%d-%d-%d-%d\" % (values[0], values[1], values[2], values[3])]\n",
    "            for key in keys:\n",
    "                if key in heatmap[pos1][pos2]:\n",
    "                    heatmap[pos1][pos2][key] += 1\n",
    "                else:\n",
    "                    heatmap[pos1][pos2][key] = 1\n",
    "    return heatmap\n",
    "\n",
    "\n",
    "def heatmap_combine(heatmap_data1, heatmap_data2):\n",
    "    result = [[{} for _ in range(len(heatmap_data1[0]))] for _ in range(len(heatmap_data1))]\n",
    "    for i, (row_lhs, row_rhs) in enumerate(zip(heatmap_data1, heatmap_data2)):\n",
    "        for j, (cell_lhs, cell_rhs) in enumerate(zip(row_lhs, row_rhs)):\n",
    "            result[i][j] = {\"lhs\": cell_lhs, \"rhs\": cell_rhs}\n",
    "    return result\n",
    "\n",
    "heatmap_combine(heatmap_data(data1), heatmap_data(data2))"
   ],
   "metadata": {
    "collapsed": false,
    "pycharm": {
     "name": "#%%\n"
    }
   }
  },
  {
   "cell_type": "code",
   "execution_count": 115,
   "outputs": [
    {
     "data": {
      "text/plain": "{'src': [(14, 5), (15, 16), (16, 5)],\n 'dest': [(15, 5), (16, 16)],\n 'src-dest': [(14, 5, 16, 16), (15, 16, 15, 5), (16, 5, 16, 16)]}"
     },
     "execution_count": 115,
     "metadata": {},
     "output_type": "execute_result"
    }
   ],
   "source": [
    "agents_ = agents(data1)\n",
    "\n",
    "\n",
    "agents_\n",
    "def get_grps(agents):\n",
    "    keys = [(\"src\", itemgetter(\"src_x\", \"src_y\")),\n",
    "            (\"dest\", itemgetter(\"dest_x\", \"dest_y\")),\n",
    "            (\"src-dest\", itemgetter(\"src_x\", \"src_y\", \"dest_x\", \"dest_y\"))]\n",
    "    groups = {\"src\": [], \"dest\": [], \"src-dest\": []}\n",
    "    for index_name, key in keys:\n",
    "        for group_key, group in groupby(sorted(agents, key=key), key=key):\n",
    "            groups[index_name].append(group_key)\n",
    "    return groups"
   ],
   "metadata": {
    "collapsed": false,
    "pycharm": {
     "name": "#%%\n"
    }
   }
  },
  {
   "cell_type": "code",
   "execution_count": 4,
   "outputs": [
    {
     "name": "stdout",
     "output_type": "stream",
     "text": [
      "{'n_finished': 5, 'total_time': 79, 'mean_start_time': 12.0, 'std_start_time': 16.334013591276335, 'mean_finish_time': 50.6, 'std_finish_time': 22.94863830382971, 'mean_stops': 7.6, 'max_stops': 21, 'mean_distance': 31.0}\n"
     ]
    },
    {
     "data": {
      "text/plain": "{'n_finished': 5,\n 'total_time': 35,\n 'mean_start_time': 0.6,\n 'std_start_time': 0.7999999999999999,\n 'mean_finish_time': 25.0,\n 'std_finish_time': 9.486832980505138,\n 'mean_stops': 0.6,\n 'max_stops': 2,\n 'mean_distance': 23.8}"
     },
     "execution_count": 4,
     "metadata": {},
     "output_type": "execute_result"
    }
   ],
   "source": [
    "# trains on target\n",
    "# total time to completion\n",
    "# average starttime\n",
    "# average number of stops\n",
    "# variance of stops\n",
    "# average time to completion\n",
    "# variance of time to completion\n",
    "\n",
    "def start_time(episode_data):\n",
    "    return next(i for i, pos in enumerate(episode_data) if pos != [0, 0])\n",
    "\n",
    "def finish_time(episode_data):\n",
    "    if episode_data[-1] != [0, 0]:\n",
    "        return -1\n",
    "    return next(i for i, pos in reversed(list(enumerate(episode_data))) if pos != [0, 0]) + 1\n",
    "\n",
    "def number_of_stops(episode_data):\n",
    "    travel_episode = [pos for pos in episode_data if pos != [0, 0]]\n",
    "    current_pos = [0, 0]\n",
    "    stops = 0\n",
    "    for pos in travel_episode:\n",
    "        if current_pos == pos:\n",
    "            stops += 1\n",
    "        current_pos = pos\n",
    "    return stops\n",
    "\n",
    "def traveled_distance(episode_data):\n",
    "    travel_episode = [pos for pos in episode_data if pos != [0, 0]]\n",
    "    current_pos = [0, 0]\n",
    "    distance = 0\n",
    "    for pos in travel_episode:\n",
    "        if current_pos != pos:\n",
    "            distance += 1\n",
    "        current_pos = pos\n",
    "    return distance\n",
    "\n",
    "def get_metrics(episode_per_agent):\n",
    "    result = {\"n_finished\": len([finish_time(v) for k, v in episode_per_agent.items() if finish_time(v) != -1]),\n",
    "              \"total_time\": max([finish_time(v) for k, v in episode_per_agent.items()]),\n",
    "              \"mean_start_time\": np.mean([start_time(v) for k, v in episode_per_agent.items()]),\n",
    "              \"std_start_time\": np.std([start_time(v) for k, v in episode_per_agent.items()]),\n",
    "              \"mean_finish_time\": np.mean([finish_time(v) for k, v in episode_per_agent.items() if finish_time(v) != -1]),\n",
    "              \"std_finish_time\": np.std([finish_time(v) for k, v in episode_per_agent.items() if finish_time(v) != -1]),\n",
    "              \"mean_stops\": np.mean([number_of_stops(v) for k, v in episode_per_agent.items()]),\n",
    "              \"max_stops\": max([number_of_stops(v) for k, v in episode_per_agent.items()]),\n",
    "              \"mean_distance\": np.mean([traveled_distance(v) for k, v in episode_per_agent.items()])}\n",
    "    return result\n",
    "\n",
    "print(get_metrics(fdp.episode_per_agent(data2)))\n",
    "get_metrics(fdp.episode_per_agent(data1))"
   ],
   "metadata": {
    "collapsed": false,
    "pycharm": {
     "name": "#%%\n"
    }
   }
  },
  {
   "cell_type": "code",
   "execution_count": 57,
   "outputs": [
    {
     "data": {
      "text/plain": "[13, 31, 31, 35, 45]"
     },
     "execution_count": 57,
     "metadata": {},
     "output_type": "execute_result"
    }
   ],
   "source": [
    "[traveled_distance(v) for k, v in foo.items()]"
   ],
   "metadata": {
    "collapsed": false,
    "pycharm": {
     "name": "#%%\n"
    }
   }
  },
  {
   "cell_type": "code",
   "execution_count": 58,
   "outputs": [
    {
     "data": {
      "text/plain": "[13, 42, 36, 36, 66]"
     },
     "execution_count": 58,
     "metadata": {},
     "output_type": "execute_result"
    }
   ],
   "source": [
    "[finish_time(v) - start_time(v) for k, v in foo.items()]"
   ],
   "metadata": {
    "collapsed": false,
    "pycharm": {
     "name": "#%%\n"
    }
   }
  },
  {
   "cell_type": "code",
   "execution_count": 59,
   "outputs": [
    {
     "data": {
      "text/plain": "[0, 11, 5, 1, 21]"
     },
     "execution_count": 59,
     "metadata": {},
     "output_type": "execute_result"
    }
   ],
   "source": [
    "[number_of_stops(v) for k, v in foo.items()]"
   ],
   "metadata": {
    "collapsed": false,
    "pycharm": {
     "name": "#%%\n"
    }
   }
  },
  {
   "cell_type": "code",
   "execution_count": 5,
   "outputs": [],
   "source": [
    "foo = get_metrics(fdp.episode_per_agent(data1))\n",
    "foo2 = get_metrics(fdp.episode_per_agent(data2))"
   ],
   "metadata": {
    "collapsed": false,
    "pycharm": {
     "name": "#%%\n"
    }
   }
  },
  {
   "cell_type": "code",
   "execution_count": 6,
   "outputs": [
    {
     "data": {
      "text/plain": "   index  max_stops  mean_distance  mean_finish_time  mean_start_time  \\\n0      0        2.0           23.8              25.0              0.6   \n1      1       21.0           31.0              50.6             12.0   \n\n   mean_stops  n_finished  std_finish_time  std_start_time  total_time  \n0         0.6         5.0         9.486833        0.800000        35.0  \n1         7.6         5.0        22.948638       16.334014        79.0  ",
      "text/html": "<div>\n<style scoped>\n    .dataframe tbody tr th:only-of-type {\n        vertical-align: middle;\n    }\n\n    .dataframe tbody tr th {\n        vertical-align: top;\n    }\n\n    .dataframe thead th {\n        text-align: right;\n    }\n</style>\n<table border=\"1\" class=\"dataframe\">\n  <thead>\n    <tr style=\"text-align: right;\">\n      <th></th>\n      <th>index</th>\n      <th>max_stops</th>\n      <th>mean_distance</th>\n      <th>mean_finish_time</th>\n      <th>mean_start_time</th>\n      <th>mean_stops</th>\n      <th>n_finished</th>\n      <th>std_finish_time</th>\n      <th>std_start_time</th>\n      <th>total_time</th>\n    </tr>\n  </thead>\n  <tbody>\n    <tr>\n      <th>0</th>\n      <td>0</td>\n      <td>2.0</td>\n      <td>23.8</td>\n      <td>25.0</td>\n      <td>0.6</td>\n      <td>0.6</td>\n      <td>5.0</td>\n      <td>9.486833</td>\n      <td>0.800000</td>\n      <td>35.0</td>\n    </tr>\n    <tr>\n      <th>1</th>\n      <td>1</td>\n      <td>21.0</td>\n      <td>31.0</td>\n      <td>50.6</td>\n      <td>12.0</td>\n      <td>7.6</td>\n      <td>5.0</td>\n      <td>22.948638</td>\n      <td>16.334014</td>\n      <td>79.0</td>\n    </tr>\n  </tbody>\n</table>\n</div>"
     },
     "execution_count": 6,
     "metadata": {},
     "output_type": "execute_result"
    }
   ],
   "source": [
    "output = pd.DataFrame()\n",
    "output = output.append(foo, ignore_index=True)\n",
    "output = output.append(foo2, ignore_index=True)\n",
    "output = output.reset_index()\n",
    "output.head()"
   ],
   "metadata": {
    "collapsed": false,
    "pycharm": {
     "name": "#%%\n"
    }
   }
  },
  {
   "cell_type": "code",
   "execution_count": 14,
   "outputs": [
    {
     "data": {
      "text/plain": "<Figure size 432x288 with 1 Axes>",
      "image/png": "[encoded data removed]"
     },
     "metadata": {
      "needs_background": "light"
     },
     "output_type": "display_data"
    }
   ],
   "source": [
    "import matplotlib.pyplot as plt\n",
    "ax = pd.plotting.parallel_coordinates(output, \"index\")\n",
    "plt.xticks(rotation=45)\n",
    "fig = ax.get_figure()\n",
    "fig.savefig(\"pp.png\", bbox_inches=\"tight\")"
   ],
   "metadata": {
    "collapsed": false,
    "pycharm": {
     "name": "#%%\n"
    }
   }
  },
  {
   "cell_type": "code",
   "execution_count": 117,
   "outputs": [],
   "source": [
    "def analyse_episode(episode_data):\n",
    "    steps = []\n",
    "    travel_episode = [i for i, pos in enumerate(episode_data) if pos != [0, 0]]\n",
    "    start = travel_episode[0]\n",
    "    current_pos = [0, 0]\n",
    "    moving = True\n",
    "    for i in travel_episode:\n",
    "        if current_pos == episode_data[i]:\n",
    "            if moving:\n",
    "                moving = False\n",
    "                steps.append([start, i - 1])\n",
    "        if current_pos != episode_data[i]:\n",
    "            if not moving:\n",
    "                start = i\n",
    "                moving = True\n",
    "        current_pos = episode_data[i]\n",
    "    if moving:\n",
    "        steps.append([start, travel_episode[-1]])\n",
    "    return steps\n",
    "\n",
    "def time_data_per_grp(level_data):\n",
    "    episode_per_agent = fdp.episode_per_agent(data1)\n",
    "    agents = fdp.agents(data1)\n",
    "    groups = fdp.get_groups(agents)\n",
    "    time_data = {}\n",
    "    for (x, y) in groups[\"src\"]:\n",
    "        agents_in_group = [agent[\"index\"] for agent in agents if agent[\"src_x\"] == x and agent[\"src_y\"] == y]\n",
    "        obj = {\"agent_index\": agents_in_group}\n",
    "        for agent in agents_in_group:\n",
    "            obj[str(agent)] = analyse_episode(episode_per_agent[agent])\n",
    "        time_data[\"src-%d-%d\" % (x, y)] = obj\n",
    "    return time_data"
   ],
   "metadata": {
    "collapsed": false,
    "pycharm": {
     "name": "#%%\n"
    }
   }
  },
  {
   "cell_type": "code",
   "execution_count": 3,
   "outputs": [
    {
     "data": {
      "text/plain": "{'src-14-5': {'agent_index': [1, 4],\n  1: [[2, 4], [6, 22], [24, 34]],\n  4: [[0, 2], [4, 13]]},\n 'src-15-16': {'agent_index': [3], 3: [[0, 30]]},\n 'src-16-5': {'agent_index': [0, 2], 0: [[0, 12]], 2: [[1, 31]]}}"
     },
     "execution_count": 3,
     "metadata": {},
     "output_type": "execute_result"
    }
   ],
   "source": [
    "fdp.time_data_per_grp(data1)"
   ],
   "metadata": {
    "collapsed": false,
    "pycharm": {
     "name": "#%%\n"
    }
   }
  }
 ],
 "metadata": {
  "kernelspec": {
   "display_name": "Python 3",
   "language": "python",
   "name": "python3"
  },
  "language_info": {
   "codemirror_mode": {
    "name": "ipython",
    "version": 2
   },
   "file_extension": ".py",
   "mimetype": "text/x-python",
   "name": "python",
   "nbconvert_exporter": "python",
   "pygments_lexer": "ipython2",
   "version": "2.7.6"
  }
 },
 "nbformat": 4,
 "nbformat_minor": 0
}